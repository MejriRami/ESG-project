{
 "cells": [
  {
   "cell_type": "markdown",
   "id": "0852fc11-cb2f-48ce-82df-ae8513c68d1b",
   "metadata": {},
   "source": [
    "Install Necessary Libraries"
   ]
  },
  {
   "cell_type": "code",
   "execution_count": null,
   "id": "dd2b38f5-807e-4d72-ba66-238fa150e3be",
   "metadata": {},
   "outputs": [],
   "source": [
    "!pip install pandas scikit-learn nltk gensim\n"
   ]
  },
  {
   "cell_type": "markdown",
   "id": "df9663f3-d29f-4dbe-81f4-0ca0f9a1327f",
   "metadata": {},
   "source": [
    "Import Required Libraries"
   ]
  },
  {
   "cell_type": "code",
   "execution_count": null,
   "id": "ab6669a9-edf1-41f9-b325-c8c1aeb8f869",
   "metadata": {},
   "outputs": [],
   "source": [
    "import pandas as pd\n",
    "import numpy as np\n",
    "from sklearn.naive_bayes import GaussianNB\n",
    "from sklearn.svm import SVC\n",
    "from sklearn.multiclass import OneVsRestClassifier\n",
    "from sklearn.metrics import accuracy_score, classification_report\n"
   ]
  },
  {
   "cell_type": "markdown",
   "id": "3b378ed9-3cf6-4210-aa73-fdf58e24cc04",
   "metadata": {},
   "source": [
    "Load the Preprocessed Data"
   ]
  },
  {
   "cell_type": "code",
   "execution_count": null,
   "id": "98117545-894d-48e9-823c-2a35c59a1389",
   "metadata": {},
   "outputs": [],
   "source": [
    "# Load preprocessed datasets\n",
    "train_df = pd.read_csv('train_data.csv')  # Make sure this file exists in your working directory\n",
    "val_df = pd.read_csv('val_data.csv')\n",
    "test_df = pd.read_csv('test_data.csv')\n",
    "\n",
    "# Check the first few rows of the training set\n",
    "print(train_df.head())\n"
   ]
  },
  {
   "cell_type": "markdown",
   "id": "7e37f402-e53f-4cbc-a310-cf5a13102cf2",
   "metadata": {},
   "source": [
    " Prepare the Data for Training"
   ]
  },
  {
   "cell_type": "code",
   "execution_count": null,
   "id": "7ebaa604-cb5c-49eb-97fa-55f619f5c895",
   "metadata": {},
   "outputs": [],
   "source": [
    "# Extract features and labels for training, validation, and testing sets\n",
    "X_train = np.array(train_df['glove_vectors'].tolist())  # GloVe vectors as features\n",
    "y_train = train_df['sentiment']  # Sentiment column (e.g., positive, negative, neutral)\n",
    "\n",
    "X_val = np.array(val_df['glove_vectors'].tolist())\n",
    "y_val = val_df['sentiment']\n",
    "\n",
    "X_test = np.array(test_df['glove_vectors'].tolist())\n",
    "y_test = test_df['sentiment']\n"
   ]
  },
  {
   "cell_type": "markdown",
   "id": "820a1b90-ddaa-47bf-889c-a556527a3adc",
   "metadata": {},
   "source": [
    "Train the Naive Bayes Classifier"
   ]
  },
  {
   "cell_type": "code",
   "execution_count": null,
   "id": "dabdc73b-5a97-4123-a91b-56b835e0eb0b",
   "metadata": {},
   "outputs": [],
   "source": [
    "# Initialize and train the Naive Bayes model\n",
    "nb_model = GaussianNB()\n",
    "nb_model.fit(X_train, y_train)\n",
    "\n",
    "# Make predictions on the validation set\n",
    "y_val_pred_nb = nb_model.predict(X_val)\n",
    "\n",
    "# Evaluate the model on the validation set\n",
    "print(\"Naive Bayes Model Evaluation:\")\n",
    "print(\"Validation Accuracy:\", accuracy_score(y_val, y_val_pred_nb))\n",
    "print(\"Classification Report (Validation Set):\\n\", classification_report(y_val, y_val_pred_nb))\n"
   ]
  },
  {
   "cell_type": "markdown",
   "id": "f43041b8-33c3-42be-b6d7-af8e1ecb4465",
   "metadata": {},
   "source": [
    "Test the Naive Bayes Classifier"
   ]
  },
  {
   "cell_type": "code",
   "execution_count": null,
   "id": "22980f12-e4ad-42d6-96af-575251f32f8f",
   "metadata": {},
   "outputs": [],
   "source": [
    "# Make predictions on the test set\n",
    "y_test_pred_nb = nb_model.predict(X_test)\n",
    "\n",
    "# Evaluate the model on the test set\n",
    "print(\"Naive Bayes Test Accuracy:\", accuracy_score(y_test, y_test_pred_nb))\n",
    "print(\"Classification Report (Test Set):\\n\", classification_report(y_test, y_test_pred_nb))\n"
   ]
  },
  {
   "cell_type": "markdown",
   "id": "0df7846f-6e5e-4b6b-b6e2-47cca83df3a1",
   "metadata": {},
   "source": [
    "Train the SVM Model with One-vs-Rest (OvR) Strategy and RBF Kernel"
   ]
  },
  {
   "cell_type": "code",
   "execution_count": null,
   "id": "31af1b4e-bc47-4b7b-a359-b193ef3bcb6a",
   "metadata": {},
   "outputs": [],
   "source": [
    "# Define the SVM classifier with RBF kernel\n",
    "svm_rbf_model = SVC(kernel='rbf')\n",
    "\n",
    "# Use the One-vs-Rest strategy for multi-class classification\n",
    "ovr_svm_model = OneVsRestClassifier(svm_rbf_model)\n",
    "\n",
    "# Train the model on the training set\n",
    "ovr_svm_model.fit(X_train, y_train)\n",
    "\n",
    "# Make predictions on the validation set\n",
    "y_val_pred_svm = ovr_svm_model.predict(X_val)\n",
    "\n",
    "# Evaluate the model\n",
    "print(\"SVM with OvR and RBF Kernel Model Evaluation:\")\n",
    "print(\"Validation Accuracy:\", accuracy_score(y_val, y_val_pred_svm))\n",
    "print(\"Classification Report (Validation Set):\\n\", classification_report(y_val, y_val_pred_svm))\n"
   ]
  },
  {
   "cell_type": "markdown",
   "id": "526cf3d3-1455-4e65-9475-2f4beca8381b",
   "metadata": {},
   "source": [
    " Test the SVM Model on the Test Set"
   ]
  },
  {
   "cell_type": "code",
   "execution_count": null,
   "id": "afb05863-711c-4724-bad5-3f69c1628cf2",
   "metadata": {},
   "outputs": [],
   "source": [
    "# Make predictions on the test set\n",
    "y_test_pred_svm = ovr_svm_model.predict(X_test)\n",
    "\n",
    "# Evaluate the model on test data\n",
    "print(\"SVM Test Accuracy:\", accuracy_score(y_test, y_test_pred_svm))\n",
    "print(\"Classification Report (Test Set):\\n\", classification_report(y_test, y_test_pred_svm))\n"
   ]
  }
 ],
 "metadata": {
  "kernelspec": {
   "display_name": "Python 3 (ipykernel)",
   "language": "python",
   "name": "python3"
  },
  "language_info": {
   "codemirror_mode": {
    "name": "ipython",
    "version": 3
   },
   "file_extension": ".py",
   "mimetype": "text/x-python",
   "name": "python",
   "nbconvert_exporter": "python",
   "pygments_lexer": "ipython3",
   "version": "3.11.7"
  }
 },
 "nbformat": 4,
 "nbformat_minor": 5
}
